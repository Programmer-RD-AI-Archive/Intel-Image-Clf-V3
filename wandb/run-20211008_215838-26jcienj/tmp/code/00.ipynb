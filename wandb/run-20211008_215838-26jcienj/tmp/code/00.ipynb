{
 "cells": [
  {
   "cell_type": "code",
   "execution_count": 1,
   "id": "589e3cf5-e795-42c3-9ab4-9b86738ce1a4",
   "metadata": {},
   "outputs": [],
   "source": [
    "from torchvision.models import *\n",
    "import wandb\n",
    "from sklearn.model_selection import train_test_split\n",
    "import os,cv2\n",
    "import numpy as np\n",
    "import matplotlib.pyplot as plt\n",
    "from torch.optim import *\n",
    "from torch.nn import *\n",
    "import torch,torchvision\n",
    "from tqdm import tqdm\n",
    "device = 'cuda'\n",
    "PROJECT_NAME = 'Intel-Image-Clf-V3'"
   ]
  },
  {
   "cell_type": "code",
   "execution_count": 2,
   "id": "c4beb447-de7e-4b31-944d-3b14f2fb63e9",
   "metadata": {},
   "outputs": [],
   "source": [
    "def load_data():\n",
    "    data = []\n",
    "    idx = 0\n",
    "    labels = {}\n",
    "    labels_r = {}\n",
    "    for label in os.listdir('./data/'):\n",
    "        idx += 1\n",
    "        labels[label] = idx\n",
    "        labels_r[idx] = label\n",
    "    for folder in os.listdir('./data/'):\n",
    "        for file in os.listdir(f'./data/{folder}/')[:1125]:\n",
    "            img = cv2.imread(f'./data/{folder}/{file}')\n",
    "            img = cv2.resize(img,(56,56))\n",
    "            img = img / 255.0\n",
    "            data.append([\n",
    "                img,\n",
    "                np.eye(labels[folder],len(labels))[labels[folder]-1]\n",
    "            ])\n",
    "    X = []\n",
    "    y = []\n",
    "    for d in data:\n",
    "        X.append(d[0])\n",
    "        y.append(d[1])\n",
    "    X_train,X_test,y_train,y_test = train_test_split(X,y,test_size=0.125,shuffle=False)\n",
    "    X_train = torch.from_numpy(np.array(X_train)).to(device).view(-1,3,56,56).float()\n",
    "    y_train = torch.from_numpy(np.array(y_train)).to(device).float()\n",
    "    X_test = torch.from_numpy(np.array(X_test)).to(device).view(-1,3,56,56).float()\n",
    "    y_test = torch.from_numpy(np.array(y_test)).to(device).float()\n",
    "    return X,y,X_train,X_test,y_train,y_test,labels,labels_r,idx,data"
   ]
  },
  {
   "cell_type": "code",
   "execution_count": 3,
   "id": "beb19e35-5a57-4c59-a08d-812f7cf109a9",
   "metadata": {},
   "outputs": [],
   "source": [
    "X,y,X_train,X_test,y_train,y_test,labels,labels_r,idx,data = load_data()"
   ]
  },
  {
   "cell_type": "code",
   "execution_count": 4,
   "id": "a4605591-5aee-42b1-a26a-3fb3715635ec",
   "metadata": {},
   "outputs": [],
   "source": [
    "torch.save(labels_r,'labels_r.pt')\n",
    "torch.save(labels,'labels.pt')\n",
    "torch.save(X_train,'X_train.pth')\n",
    "torch.save(y_train,'y_train.pth')\n",
    "torch.save(X_test,'X_test.pth')\n",
    "torch.save(y_test,'y_test.pth')\n",
    "torch.save(labels_r,'labels_r.pth')\n",
    "torch.save(labels,'labels.pth')"
   ]
  },
  {
   "cell_type": "code",
   "execution_count": 5,
   "id": "8c69802d-5fcd-47e4-8273-9f0ecf08da29",
   "metadata": {},
   "outputs": [],
   "source": [
    "def get_loss(model,X,y,criterion):\n",
    "    preds = model(X)\n",
    "    loss = criterion(preds,y)\n",
    "    return loss.item()"
   ]
  },
  {
   "cell_type": "code",
   "execution_count": 6,
   "id": "883ff48a-acd5-4c03-959d-1834f42c08ad",
   "metadata": {},
   "outputs": [],
   "source": [
    "def get_accuracy(model,X,y):\n",
    "    correct = 0\n",
    "    total = 0\n",
    "    preds = model(X)\n",
    "    for pred,yb in zip(preds,y):\n",
    "        pred = int(torch.argmax(pred))\n",
    "        yb = int(torch.argmax(yb))\n",
    "        if pred == yb:\n",
    "            correct += 1\n",
    "        total += 1\n",
    "    acc = round(correct/total,3)*100\n",
    "    return acc"
   ]
  },
  {
   "cell_type": "code",
   "execution_count": 7,
   "id": "7654f9ca-45cd-4418-8645-cf9e5b2f2204",
   "metadata": {},
   "outputs": [],
   "source": [
    "model = resnet18().to(device)\n",
    "model.fc = Linear(512,len(labels))\n",
    "criterion = MSELoss()\n",
    "optimizer = Adam(model.parameters(),lr=0.001)\n",
    "epochs = 100\n",
    "batch_size = 32"
   ]
  },
  {
   "cell_type": "code",
   "execution_count": 8,
   "id": "4f7c6f43-1805-447f-8da9-beb79f98a406",
   "metadata": {},
   "outputs": [],
   "source": [
    "torch.save(model,'model-resnet18.pt')\n",
    "torch.save(model,'model-resnet18.pth')\n",
    "torch.save(model.state_dict(),'model-sd-resnet18.pt')\n",
    "torch.save(model.state_dict(),'model-sd-resnet18.pth')"
   ]
  },
  {
   "cell_type": "code",
   "execution_count": null,
   "id": "0297b90f-131b-4683-99e1-dca8c30cbfcb",
   "metadata": {},
   "outputs": [
    {
     "name": "stderr",
     "output_type": "stream",
     "text": [
      "\u001b[34m\u001b[1mwandb\u001b[0m: Currently logged in as: \u001b[33mranuga-d\u001b[0m (use `wandb login --relogin` to force relogin)\n",
      "\u001b[34m\u001b[1mwandb\u001b[0m: wandb version 0.12.4 is available!  To upgrade, please run:\n",
      "\u001b[34m\u001b[1mwandb\u001b[0m:  $ pip install wandb --upgrade\n"
     ]
    },
    {
     "data": {
      "text/html": [
       "\n",
       "                Tracking run with wandb version 0.12.1<br/>\n",
       "                Syncing run <strong style=\"color:#cdcd00\">baseline-TL</strong> to <a href=\"https://wandb.ai\" target=\"_blank\">Weights & Biases</a> <a href=\"https://docs.wandb.com/integrations/jupyter.html\" target=\"_blank\">(Documentation)</a>.<br/>\n",
       "                Project page: <a href=\"https://wandb.ai/ranuga-d/Intel-Image-Clf-V3\" target=\"_blank\">https://wandb.ai/ranuga-d/Intel-Image-Clf-V3</a><br/>\n",
       "                Run page: <a href=\"https://wandb.ai/ranuga-d/Intel-Image-Clf-V3/runs/26jcienj\" target=\"_blank\">https://wandb.ai/ranuga-d/Intel-Image-Clf-V3/runs/26jcienj</a><br/>\n",
       "                Run data is saved locally in <code>/home/indika/Programming/Projects/Python/Artifical-Intelligence/PyTorch/CNN/Intel-Image-Clf-V3/wandb/run-20211008_215838-26jcienj</code><br/><br/>\n",
       "            "
      ],
      "text/plain": [
       "<IPython.core.display.HTML object>"
      ]
     },
     "metadata": {},
     "output_type": "display_data"
    },
    {
     "name": "stderr",
     "output_type": "stream",
     "text": [
      "  0%|                                                   | 0/100 [00:00<?, ?it/s]"
     ]
    }
   ],
   "source": [
    "wandb.init(project=PROJECT_NAME,name='baseline-TL')\n",
    "for _ in tqdm(range(epochs)):\n",
    "    for i in range(0,len(X_train),batch_size):\n",
    "        X_batch = X_train[i:i+batch_size]\n",
    "        y_batch = y_train[i:i+batch_size]\n",
    "        model.to(device)\n",
    "        preds = model(X_batch)\n",
    "        loss = criterion(preds,y_batch)\n",
    "        optimizer.zero_grad()\n",
    "        loss.backward()\n",
    "        optimizer.step()\n",
    "    model.eval()\n",
    "    torch.cuda.empty_cache()\n",
    "    wandb.log({'Loss':(get_loss(model,X_train,y_train,criterion)+get_loss(model,X_batch,y_batch,criterion))/2})\n",
    "    torch.cuda.empty_cache()\n",
    "    wandb.log({'Val Loss':get_loss(model,X_test,y_test,criterion)})\n",
    "    torch.cuda.empty_cache()\n",
    "    wandb.log({'Acc':(get_accuracy(model,X_train,y_train)+get_accuracy(model,X_batch,y_batch))/2})\n",
    "    torch.cuda.empty_cache()\n",
    "    wandb.log({'Val ACC':get_accuracy(model,X_test,y_test)})\n",
    "    torch.cuda.empty_cache()\n",
    "    model.train()\n",
    "wandb.finish()"
   ]
  },
  {
   "cell_type": "code",
   "execution_count": null,
   "id": "0f58cfbd-6466-4dc7-a491-254781f23826",
   "metadata": {},
   "outputs": [],
   "source": [
    "class Model(Module):\n",
    "    def __init__(self):\n",
    "        super().__init__(self)\n",
    "        self.max_pool2d = MaxPool2d((2,2),(2,2))\n",
    "        self.activation = ReLU()\n",
    "        self.conv1 = Conv2d(3,7,(5,5))\n",
    "        self.conv2 = Conv2d(7,14,(5,5))\n",
    "        self.conv2bn = BatchNorm2d(14)\n",
    "        self.conv3 = Conv2d(14,28,(5,5))\n",
    "        self.linear1 = Linear(28*5*5,256)\n",
    "        self.linear2 = Linear(256,512)\n",
    "        self.linear2bn = BatchNorm1d(512)\n",
    "        self.linear3 = Linear(512,256)\n",
    "        self.output = Linear(256,len(labels))\n",
    "    \n",
    "    def forward(self,X):\n",
    "        preds = self.max_pool2d(self.activation(self.conv1(X)))\n",
    "        preds = self.max_pool2d(self.activation(self.conv2bn(self.conv2(preds))))\n",
    "        preds = self.max_pool2d(self.activation(self.conv3(preds)))\n",
    "        print(preds.shape)\n",
    "        preds = preds.view(-1,28*5*5)\n",
    "        preds = self.activation(self.linear1(preds))\n",
    "        preds = self.activation(self.linear2bn(self.linear2(preds)))\n",
    "        preds = self.activation(self.linear3(preds))\n",
    "        preds = self.outupt(preds)\n",
    "        return preds"
   ]
  },
  {
   "cell_type": "code",
   "execution_count": null,
   "id": "c81a0263-418f-4b6f-acd6-a012f77e569e",
   "metadata": {},
   "outputs": [],
   "source": [
    "model = Model().to(device)\n",
    "criterion = MSELoss()\n",
    "optimizer = Adam(model.parameters(),lr=0.001)\n",
    "epochs = 100\n",
    "batch_size = 32"
   ]
  },
  {
   "cell_type": "code",
   "execution_count": null,
   "id": "1d69c018-53f7-486b-b407-948311f1e07e",
   "metadata": {},
   "outputs": [],
   "source": [
    "torch.save(model,'model.pt')\n",
    "torch.save(model,'model.pth')\n",
    "torch.save(model.state_dict(),'model-sd.pt')\n",
    "torch.save(model.state_dict(),'model-sd.pth')"
   ]
  },
  {
   "cell_type": "code",
   "execution_count": null,
   "id": "71c32f05-c1fb-4ad1-ae46-1f44a43cff92",
   "metadata": {},
   "outputs": [],
   "source": [
    "wandb.init(project=PROJECT_NAME,name='baseline-CNN')\n",
    "for _ in tqdm(range(epochs)):\n",
    "    for i in range(0,len(X_train),batch_size):\n",
    "        X_batch = X_train[i:i+batch_size]\n",
    "        y_batch = y_train[i:i+batch_size]\n",
    "        model.to(device)\n",
    "        preds = model(X_batch)\n",
    "        loss = criterion(preds,y_batch)\n",
    "        optimizer.zero_grad()\n",
    "        loss.backward()\n",
    "        optimizer.step()\n",
    "    model.eval()\n",
    "    torch.cuda.empty_cache()\n",
    "    wandb.log({'Loss':(get_loss(model,X_train,y_train,criterion)+get_loss(model,X_batch,y_batch,criterion))/2})\n",
    "    torch.cuda.empty_cache()\n",
    "    wandb.log({'Val Loss':get_loss(model,X_test,y_test,criterion)})\n",
    "    torch.cuda.empty_cache()\n",
    "    wandb.log({'Acc':(get_accuracy(model,X_train,y_train)+get_accuracy(model,X_batch,y_batch))/2})\n",
    "    torch.cuda.empty_cache()\n",
    "    wandb.log({'Val ACC':get_accuracy(model,X_test,y_test)})\n",
    "    torch.cuda.empty_cache()\n",
    "    model.train()\n",
    "wandb.finish()"
   ]
  },
  {
   "cell_type": "code",
   "execution_count": null,
   "id": "fb619023-021a-4751-b7f1-de1234a1fc31",
   "metadata": {},
   "outputs": [],
   "source": []
  }
 ],
 "metadata": {
  "kernelspec": {
   "display_name": "Python 3.7.3 64-bit ('base': conda)",
   "language": "python",
   "name": "python373jvsc74a57bd0210f9608a45c0278a93c9e0b10db32a427986ab48cfc0d20c139811eb78c4bbc"
  },
  "language_info": {
   "codemirror_mode": {
    "name": "ipython",
    "version": 3
   },
   "file_extension": ".py",
   "mimetype": "text/x-python",
   "name": "python",
   "nbconvert_exporter": "python",
   "pygments_lexer": "ipython3",
   "version": "3.7.11"
  }
 },
 "nbformat": 4,
 "nbformat_minor": 5
}
